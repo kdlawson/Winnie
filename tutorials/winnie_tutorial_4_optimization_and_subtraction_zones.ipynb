{
 "cells": [
  {
   "cell_type": "code",
   "execution_count": null,
   "id": "d2cbf8f1",
   "metadata": {
    "ExecuteTime": {
     "end_time": "2024-05-09T15:48:49.138487Z",
     "start_time": "2024-05-09T15:48:44.360087Z"
    }
   },
   "outputs": [],
   "source": [
    "# Imports\n",
    "from IPython.display import display, HTML\n",
    "\n",
    "def setup_display(width=95, fontsize=16):\n",
    "    \"\"\"\n",
    "    Sets window width and markdown fontsize for Jupyter notebook. Width is % of window.\n",
    "    \"\"\"\n",
    "    display(HTML(\"<style>.container { width:\"+str(width)+\"% !important; }</style>\"))\n",
    "    display(HTML(\"<style>.rendered_html { font-size: \"+str(fontsize)+\"px; }</style>\"))\n",
    "    return None\n",
    "\n",
    "def source(fn):\n",
    "    import inspect\n",
    "    print(inspect.getsource(fn))\n",
    "    return None\n",
    "\n",
    "import sys\n",
    "# Adding the Winnie package's directory to your path\n",
    "winnie_path = '../'\n",
    "\n",
    "if winnie_path not in sys.path:\n",
    "    sys.path.append(winnie_path)\n",
    "\n",
    "##################\n",
    "import numpy as np\n",
    "import glob\n",
    "import winnie\n",
    "from winnie.plot import animate_quick_implot, quick_implot, mpl, plt\n",
    "from spaceKLIP import database\n",
    "import webbpsf\n",
    "import astropy.units as u\n",
    "\n",
    "setup_display()"
   ]
  },
  {
   "cell_type": "code",
   "execution_count": null,
   "id": "c49e2a30",
   "metadata": {
    "ExecuteTime": {
     "end_time": "2024-05-09T15:48:49.329476Z",
     "start_time": "2024-05-09T15:48:49.140145Z"
    }
   },
   "outputs": [],
   "source": [
    "# Prep the SpaceRDI object:\n",
    "distance = 9.714 # Distance to your target in parsecs\n",
    "\n",
    "base_dir = './aumic_rdi_example/'\n",
    "input_dir = f'{base_dir}coadded/'\n",
    "output_dir = f'{base_dir}WinnieRDI/'\n",
    "data_ext = 'calints'\n",
    "fitsfiles = np.sort(glob.glob(f'{input_dir}*{data_ext}.fits')) # Populate a file list\n",
    "\n",
    "# Initialize the spaceKLIP database\n",
    "Database = database.Database(output_dir)\n",
    "Database.verbose = False\n",
    "Database.read_jwst_s012_data(datapaths=fitsfiles,\n",
    "                             psflibpaths=None,\n",
    "                             bgpaths=None)\n",
    "\n",
    "# Create the SpaceRDI object we'll use to carry out RDI\n",
    "wdb = winnie.SpaceRDI(Database, data_ext, overwrite=True, verbose=True, pad_data='auto')"
   ]
  },
  {
   "cell_type": "code",
   "execution_count": null,
   "id": "8656bac7",
   "metadata": {
    "ExecuteTime": {
     "end_time": "2024-05-09T15:48:52.198441Z",
     "start_time": "2024-05-09T15:48:52.049894Z"
    }
   },
   "outputs": [],
   "source": [
    "wdb.load_concat(0)"
   ]
  },
  {
   "cell_type": "code",
   "execution_count": null,
   "id": "821e1f37",
   "metadata": {
    "ExecuteTime": {
     "end_time": "2024-05-09T15:48:53.119813Z",
     "start_time": "2024-05-09T15:48:52.729497Z"
    }
   },
   "outputs": [],
   "source": [
    "# Use the following to report some info about the current configuration and make plots showing the subtraction vs optimization regions being used\n",
    "wdb.report_current_config(show_plots=True)"
   ]
  },
  {
   "cell_type": "markdown",
   "id": "8afb446e",
   "metadata": {},
   "source": [
    "If you're used to working with KLIP (or classical RDI), optimization and subtraction zones may not be a familiar concept.\n",
    "\n",
    "Optimization and subtraction zones are used to construct our stellar PSF model for PSF subtraction.\n",
    "\n",
    "Optimization zones: the regions in which the science and reference images are compared to determine the reference image coefficients to be used in the stellar PSF model.\n",
    "\n",
    "Subtraction zones: the regions in which the stellar PSF model is constructed using the coefficients from the corresponding optimization region. \n",
    "\n",
    "By default, load_concat will set SpaceRDI to use a single zone each for optimization and subtraction — using r < 3 arcsec for optimization, and the full frame for subtraction. Since very little stellar flux (comparatively) is present beyond ~3 arcsec, this simply speeds up the calculation while avoiding contributions from background sources.\n",
    "\n",
    "If you'd like different zones to be used by default when a concatenation is loaded, you can set the \"r_opt\" and/or \"r_sub\" arguments when initializing the SpaceRDI object, or you can set the r_opt and r_sub attributes directly anytime thereafter (e.g., wdb.r_opt). Just keep in mind that if you already loaded a concat, you'll either need to reload it or manually change the optimization/subtraction zones. E.g.,         \n",
    "```\n",
    "wdb.r_opt = 5*u.arcsec\n",
    "\n",
    "optzones, subzones = winnie.rdi.build_annular_rdi_zones(wdb._nx, wdb._ny, wdb._c_star, r_opt=wdb.r_opt, r_sub=wdb.r_sub, pxscale=wdb.pxscale)\n",
    "\n",
    "wdb.set_zones(optzones, subzones)\n",
    "```\n",
    "\n",
    "(I'll probably add a setter at some point to automate this)"
   ]
  },
  {
   "cell_type": "code",
   "execution_count": null,
   "id": "fc1a036e",
   "metadata": {
    "ExecuteTime": {
     "end_time": "2024-05-09T15:48:56.145763Z",
     "start_time": "2024-05-09T15:48:55.736834Z"
    }
   },
   "outputs": [],
   "source": [
    "# Run RDI using the current settings\n",
    "\n",
    "rdi_reduc = wdb.run_rdi()"
   ]
  },
  {
   "cell_type": "code",
   "execution_count": null,
   "id": "b07126d3",
   "metadata": {
    "ExecuteTime": {
     "end_time": "2024-05-09T15:48:57.220912Z",
     "start_time": "2024-05-09T15:48:56.552279Z"
    }
   },
   "outputs": [],
   "source": [
    "fig,axes,cbar = quick_implot([rdi_reduc.im, *rdi_reduc.rolls], show=False, clim_perc=99.5, cmap='RdBu_r', extent=rdi_reduc.extent, show_ticks=True, lims=[-6.5,6.5],\n",
    "                              cbar=True, cbar_kwargs=dict(pad=0.02), panelsize=(5.5,4.5))\n",
    "\n",
    "for i,label in enumerate(['Combined', 'Roll 1', 'Roll 2']):\n",
    "    axes[i].set_title(label)\n",
    "    \n",
    "plt.show()"
   ]
  },
  {
   "cell_type": "markdown",
   "id": "a0081434",
   "metadata": {},
   "source": [
    "Let's try breaking our PSF subtraction into concentric annuli.\n",
    "\n",
    "The subtraction zones will be 20 pixels wide radially, while the optimization zones are centered radially on the subtraction zones with widths of 40 pixels instead."
   ]
  },
  {
   "cell_type": "code",
   "execution_count": null,
   "id": "e563bb81",
   "metadata": {
    "ExecuteTime": {
     "end_time": "2024-05-09T15:49:01.225552Z",
     "start_time": "2024-05-09T15:48:58.495098Z"
    },
    "scrolled": false
   },
   "outputs": [],
   "source": [
    "dr = 20\n",
    "r1_sub = np.arange(0,160,dr)\n",
    "r2_sub = r1_sub+dr\n",
    "\n",
    "r_sub = np.array([r1_sub, r2_sub]).T\n",
    "\n",
    "r_opt = np.array([r1_sub-10, r2_sub+10]).T\n",
    "\n",
    "optzones, subzones = winnie.rdi.build_annular_rdi_zones(wdb.nx, wdb.ny, wdb.c_star, r_opt, r_sub)\n",
    "\n",
    "wdb.set_zones(optzones, subzones)\n",
    "\n",
    "wdb.report_current_config(show_plots=True)"
   ]
  },
  {
   "cell_type": "code",
   "execution_count": null,
   "id": "b5c58a06",
   "metadata": {
    "ExecuteTime": {
     "end_time": "2024-05-09T15:49:09.323708Z",
     "start_time": "2024-05-09T15:49:08.893735Z"
    }
   },
   "outputs": [],
   "source": [
    "rdi_reduc2 = wdb.run_rdi()"
   ]
  },
  {
   "cell_type": "code",
   "execution_count": null,
   "id": "39489062",
   "metadata": {
    "ExecuteTime": {
     "end_time": "2024-05-09T15:49:09.855732Z",
     "start_time": "2024-05-09T15:49:09.325135Z"
    }
   },
   "outputs": [],
   "source": [
    "fig,axes,cbar = quick_implot([rdi_reduc.im, rdi_reduc2.im], show=False, clim_perc=99, cmap='RdBu_r', extent=rdi_reduc.extent, show_ticks=True, lims=[-6.5,6.5],\n",
    "                              cbar=True, cbar_kwargs=dict(pad=0.02), panelsize=(5.5,4.5))\n",
    "\n",
    "for i,label in enumerate(['Default Zones', 'Concentric Annular Zones']):\n",
    "    axes[i].set_title(label)\n",
    "    \n",
    "plt.show()"
   ]
  },
  {
   "cell_type": "markdown",
   "id": "bbf578f3",
   "metadata": {},
   "source": [
    "You can use any arbitrary arrangement of optimization and subtraction zones so long as:\n",
    "\n",
    "   a) you have the same number of each, and\n",
    "   \n",
    "   b) no pixel is included in multiple subtraction zones; i.e., np.all(np.sum(subzones, axis=0) <= 1) should be True. As in the example above, your optimization regions CAN overlap.\n",
    "   \n",
    "**NOTE**: For computational efficiency, the code does not check that b) is true. You'll just end up with a terrible looking result if you don't follow this.\n",
    "\n",
    "Any pixels that are not included in any subtraction zone will be NaN in the PSF model, and so NaN in the final image. winnie.rdi.build_annular_rdi_zones will automatically add any such pixels to the final subtraction zone."
   ]
  },
  {
   "cell_type": "markdown",
   "id": "12819ef1",
   "metadata": {},
   "source": [
    "### \"ANY arbitrary arrangement?\"\n",
    "\n",
    "### Yes:"
   ]
  },
  {
   "cell_type": "code",
   "execution_count": null,
   "id": "80b6065a",
   "metadata": {
    "ExecuteTime": {
     "end_time": "2024-05-09T15:49:15.993277Z",
     "start_time": "2024-05-09T15:49:13.260784Z"
    },
    "scrolled": false
   },
   "outputs": [],
   "source": [
    "# Set each optimization zone to include pixels within 5 randomly placed circles (of random radius)\n",
    "np.random.seed(0)\n",
    "\n",
    "vmax = 150\n",
    "optzones = np.zeros_like(subzones)\n",
    "nCirc = 5\n",
    "for i in range(subzones.shape[0]):\n",
    "    for _ in range(nCirc):\n",
    "        rmax = np.random.uniform(10,50)\n",
    "        x, y = np.random.uniform(-vmax, vmax, size=2) + wdb.c_star\n",
    "        optzones[i] = np.logical_or(optzones[i], winnie.utils.dist_to_pt([x,y], wdb.nx, wdb.ny) <= rmax)\n",
    "\n",
    "wdb.set_zones(optzones, subzones)\n",
    "\n",
    "wdb.report_current_config(show_plots=True)"
   ]
  },
  {
   "cell_type": "code",
   "execution_count": null,
   "id": "13aebbe0",
   "metadata": {
    "ExecuteTime": {
     "end_time": "2024-05-09T15:49:17.947649Z",
     "start_time": "2024-05-09T15:49:17.535963Z"
    }
   },
   "outputs": [],
   "source": [
    "rdi_reduc3 = wdb.run_rdi()"
   ]
  },
  {
   "cell_type": "code",
   "execution_count": null,
   "id": "03c12841",
   "metadata": {
    "ExecuteTime": {
     "end_time": "2024-05-09T15:49:19.067745Z",
     "start_time": "2024-05-09T15:49:18.415540Z"
    }
   },
   "outputs": [],
   "source": [
    "fig,axes,cbar = quick_implot([rdi_reduc.im, rdi_reduc2.im, rdi_reduc3.im], show=False, clim_perc=99, cmap='RdBu_r', extent=rdi_reduc.extent, show_ticks=True, lims=[-8.5,8.5],\n",
    "                              cbar=True, cbar_kwargs=dict(pad=0.02), panelsize=(5.5,4.5))\n",
    "\n",
    "for i,label in enumerate(['Default Zones', 'Concentric Annular Zones', 'Swiss Cheese Optzones']):\n",
    "    axes[i].set_title(label)\n",
    "    \n",
    "plt.show()"
   ]
  },
  {
   "cell_type": "markdown",
   "id": "40ea163d",
   "metadata": {},
   "source": [
    "**Forward modeling works exactly the same regardless of your choice of opt/sub zones (no matter how questionable)**"
   ]
  },
  {
   "cell_type": "code",
   "execution_count": null,
   "id": "7261d6ba",
   "metadata": {
    "ExecuteTime": {
     "end_time": "2024-05-08T21:44:39.435828Z",
     "start_time": "2024-05-08T21:44:30.310447Z"
    }
   },
   "outputs": [],
   "source": [
    "# Spectrum to assume for the convolution PSFs; ck04 doesn't have an M1, so we're just using an M0V instead.\n",
    "wdb.prepare_convolution(None, fov_pixels=201, osamp=2, psf_grid_kwargs=dict(nr=10, ntheta=4))\n",
    "\n",
    "# Assuming you've run through the tutorial_2 notebook already.\n",
    "raw_model = winnie.SpaceReduction(spacerdi=wdb, output_ext='rawmodel')\n",
    "\n",
    "wdb.set_circumstellar_model(raw_model=raw_model.im, raw_model_pxscale=wdb.pxscale, raw_model_center=wdb.c_star)\n",
    "\n",
    "fmrdi_reduc3 = wdb.run_rdi(forward_model=True)"
   ]
  },
  {
   "cell_type": "code",
   "execution_count": null,
   "id": "a1b21de3",
   "metadata": {
    "ExecuteTime": {
     "end_time": "2024-05-09T15:50:44.427932Z",
     "start_time": "2024-05-09T15:50:44.038244Z"
    }
   },
   "outputs": [],
   "source": [
    "wdb.set_circumstellar_model(model_ext='cssmodel')\n",
    "\n",
    "fmrdi_reduc3 = wdb.run_rdi(forward_model=True)"
   ]
  },
  {
   "cell_type": "code",
   "execution_count": null,
   "id": "0a4482f7",
   "metadata": {
    "ExecuteTime": {
     "end_time": "2024-05-09T15:51:06.033317Z",
     "start_time": "2024-05-09T15:51:05.395157Z"
    }
   },
   "outputs": [],
   "source": [
    "fig,axes,cbar = quick_implot([rdi_reduc3.im, fmrdi_reduc3.im, rdi_reduc3.im-fmrdi_reduc3.im], show=False, clim_perc=99.5, cmap='RdBu_r', extent=rdi_reduc.extent, show_ticks=True, lims=[-8.5,8.5],\n",
    "                              cbar=True, cbar_kwargs=dict(pad=0.02), panelsize=(5.5,4.5))\n",
    "\n",
    "for i,label in enumerate(['Swiss Cheese Data', 'Swiss Cheese Model', 'Residuals']):\n",
    "    axes[i].set_title(label)\n",
    "    \n",
    "plt.show()"
   ]
  },
  {
   "cell_type": "markdown",
   "id": "10f2545b",
   "metadata": {},
   "source": [
    "(Just to be totally clear: the fact that forward modeling works for any set of optimization/subtraction zones does not mean that every set of zones provides the same information about the disk via forward modeling. As an extreme example: if every pixel is a separate \"optimization zone\" (nx times ny zones total), **any** forward-modeled disk would yield a perfect match for the PSF-subtracted data — with both being exactly zero. The choice of zones can bias and/or weaken your conclusions about a given disk.)"
   ]
  },
  {
   "cell_type": "markdown",
   "id": "8d8a641f",
   "metadata": {},
   "source": [
    "### Let's look at a more informed use of zones."
   ]
  },
  {
   "cell_type": "markdown",
   "id": "8f79bc6b",
   "metadata": {},
   "source": [
    "Let's take a single annular optimization zone, but explicitly exclude the vicinity of the disk spine at both rolls from the optimization zone."
   ]
  },
  {
   "cell_type": "code",
   "execution_count": null,
   "id": "cfc4e4a5",
   "metadata": {
    "ExecuteTime": {
     "end_time": "2024-05-09T15:58:06.582812Z",
     "start_time": "2024-05-09T15:58:06.225595Z"
    }
   },
   "outputs": [],
   "source": [
    "from photutils import RectangularAperture\n",
    "\n",
    "optzones, subzones = winnie.rdi.build_annular_rdi_zones(wdb.nx, wdb.ny, wdb.c_star, r_opt=6*u.arcsec, pxscale=wdb.pxscale)\n",
    "disk_pa = 128.48\n",
    "\n",
    "for i,posang in enumerate(wdb._posangs_sci):\n",
    "    excl = np.where(RectangularAperture(wdb.c_star, w=18, h=200, theta=(disk_pa-posang)*u.deg).to_mask().to_image([wdb.ny, wdb.nx]) > 0.5, True, False)\n",
    "    optzones[:, excl] = False\n",
    "\n",
    "wdb.set_zones(optzones, subzones)\n",
    "\n",
    "wdb.report_current_config(show_plots=True)"
   ]
  },
  {
   "cell_type": "code",
   "execution_count": null,
   "id": "100d0300",
   "metadata": {
    "ExecuteTime": {
     "end_time": "2024-05-09T15:58:10.105137Z",
     "start_time": "2024-05-09T15:58:09.722489Z"
    }
   },
   "outputs": [],
   "source": [
    "# Run the RDI reduction for this zone\n",
    "\n",
    "rdi_reduc4 = wdb.run_rdi()"
   ]
  },
  {
   "cell_type": "code",
   "execution_count": null,
   "id": "7946c33f",
   "metadata": {
    "ExecuteTime": {
     "end_time": "2024-05-09T15:58:11.033516Z",
     "start_time": "2024-05-09T15:58:10.504330Z"
    }
   },
   "outputs": [],
   "source": [
    "fig,axes,cbar = quick_implot([rdi_reduc.im, rdi_reduc4.im], show=False, clim_perc=99.9, cmap='RdBu_r', extent=rdi_reduc.extent, show_ticks=True, lims=[-5.5,5.5],\n",
    "                              cbar=True, cbar_kwargs=dict(pad=0.02), panelsize=(5.5,4.5))\n",
    "\n",
    "for i,label in enumerate(['Default Zones', 'Excl. Disk PA']):\n",
    "    axes[i].set_title(label)\n",
    "    \n",
    "plt.show()"
   ]
  },
  {
   "cell_type": "markdown",
   "id": "4cd6159a",
   "metadata": {},
   "source": [
    "By explicitly excluding narrow regions along the disk PA, we have significantly diminished the oversubtraction at small separations (negative regions within r ~ 2 arcsec).\n",
    "\n",
    "However, for any technique that avoids oversubtraction by masking circumstellar sources, there is a cost: we lose the information about the stellar PSF that falls in the masked region. This is especially impactful at small separations, where most of the stellar PSF variation occurs. E.g., imagine a nearly face-on disk with radius r ~ 1.5 arcsec. To exclude this disk from our optimization zones, we would also exclude the majority of the speckle-limited regime. This would very likely inhibit our sensitivity as small separations. \n",
    "\n",
    "In general, techniques like MCRDI and HPFRDI will likely yield better results. A good use-case, however, might be more complicated circumstellar scenes. For example: the case of Beta Pictoris. For MCRDI, we can model the circumstellar scene as the superposition of Beta Pic b and the disk (as in Rebollido et al. 2024) to avoid oversubtraction (and the separate the disk and planet signals). However, we could also ease the modeling burden some by simply masking out the location of Beta Pic b and fitting for a model of just the disk.\n",
    "\n",
    "As a final note, I'll point out that one could also use this framework to search for planets using a LOCI-like procedure with a much larger number of opt/sub zones. As far as I'm aware, any benefits for this technique have not been demonstrated for JWST coronagraphy. Nevertheless: the option is there. "
   ]
  }
 ],
 "metadata": {
  "kernelspec": {
   "display_name": "Python 3 (ipykernel)",
   "language": "python",
   "name": "python3"
  },
  "language_info": {
   "codemirror_mode": {
    "name": "ipython",
    "version": 3
   },
   "file_extension": ".py",
   "mimetype": "text/x-python",
   "name": "python",
   "nbconvert_exporter": "python",
   "pygments_lexer": "ipython3",
   "version": "3.9.17"
  }
 },
 "nbformat": 4,
 "nbformat_minor": 5
}
