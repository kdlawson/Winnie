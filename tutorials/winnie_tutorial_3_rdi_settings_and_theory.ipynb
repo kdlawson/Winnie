{
 "cells": [
  {
   "cell_type": "code",
   "execution_count": null,
   "id": "f79d096b",
   "metadata": {
    "ExecuteTime": {
     "end_time": "2024-05-09T15:22:36.915344Z",
     "start_time": "2024-05-09T15:22:32.291063Z"
    }
   },
   "outputs": [],
   "source": [
    "# Imports\n",
    "from IPython.display import display, HTML\n",
    "\n",
    "def setup_display(width=95, fontsize=16):\n",
    "    \"\"\"\n",
    "    Sets window width and markdown fontsize for Jupyter notebook. Width is % of window.\n",
    "    \"\"\"\n",
    "    display(HTML(\"<style>.container { width:\"+str(width)+\"% !important; }</style>\"))\n",
    "    display(HTML(\"<style>.rendered_html { font-size: \"+str(fontsize)+\"px; }</style>\"))\n",
    "    return None\n",
    "\n",
    "def source(fn):\n",
    "    import inspect\n",
    "    print(inspect.getsource(fn))\n",
    "    return None\n",
    "\n",
    "import sys\n",
    "# Adding the Winnie package's directory to your path\n",
    "winnie_path = '../'\n",
    "\n",
    "if winnie_path not in sys.path:\n",
    "    sys.path.append(winnie_path)\n",
    "\n",
    "##################\n",
    "import numpy as np\n",
    "import glob\n",
    "import winnie\n",
    "from winnie.plot import animate_quick_implot, quick_implot, mpl, plt\n",
    "from spaceKLIP import database\n",
    "import webbpsf\n",
    "import astropy.units as u\n",
    "\n",
    "setup_display()"
   ]
  },
  {
   "cell_type": "code",
   "execution_count": null,
   "id": "d102fa41",
   "metadata": {
    "ExecuteTime": {
     "end_time": "2024-05-09T15:23:33.511213Z",
     "start_time": "2024-05-09T15:23:33.340279Z"
    }
   },
   "outputs": [],
   "source": [
    "# Prep the SpaceRDI object:\n",
    "distance = 9.714 # Distance to your target in parsecs\n",
    "\n",
    "base_dir = './aumic_rdi_example/'\n",
    "input_dir = f'{base_dir}coadded/'\n",
    "output_dir = f'{base_dir}WinnieRDI/'\n",
    "data_ext = 'calints'\n",
    "fitsfiles = np.sort(glob.glob(f'{input_dir}*{data_ext}.fits')) # Populate a file list\n",
    "\n",
    "# Initialize the spaceKLIP database\n",
    "Database = database.Database(output_dir)\n",
    "Database.verbose = False\n",
    "Database.read_jwst_s012_data(datapaths=fitsfiles,\n",
    "                             psflibpaths=None,\n",
    "                             bgpaths=None)\n",
    "\n",
    "# Create the SpaceRDI object we'll use to carry out RDI\n",
    "wdb = winnie.SpaceRDI(Database, data_ext, overwrite=True, verbose=True, pad_data='auto')"
   ]
  },
  {
   "cell_type": "markdown",
   "id": "b1a59060",
   "metadata": {},
   "source": [
    "The core RDI procedure used by Winnie constructs a stellar PSF model in two major steps.\n",
    "\n",
    "1) Calculate reference image coefficients\n",
    "\n",
    "2) Construct the stellar PSF model using those coefficients\n",
    "\n",
    "Throughout all of the included RDI variants, step 2 remains unchanged. Irrespective of the flavor of RDI, we **always** construct the stellar PSF model image, $\\mathcal{M}$, for each science image as:\n",
    "\n",
    "$\n",
    "\\begin{align}\n",
    "\\mathcal{M} = \\{ c_0 R_0 + c_1 R_1 + c_2 R_2 + ... \\}= \\sum_i c_i R_i\n",
    "\\end{align}\n",
    "$\n",
    "\n",
    "where $c_i$ is the coefficient for i$\\rm^{th}$ reference image, $R_i$. In simpler terms: we make our PSF model image by multiplying each reference image by a constant and then adding the results together.\n",
    "\n",
    "What differs between the RDI variants is how the optimal coefficients (the constants) are computed. \n",
    "\n",
    "**wdb.rdi_presets()**: Standard RDI; coefficients give the linear combination of <font color='red'>**reference images**</font> that minimizes squared residuals with the <font color='blue'>**science image**</font>\n",
    "\n",
    "**wdb.mcrdi_presets()**: Model Constrained RDI (MCRDI); coefficients give the linear combination of <font color='red'>**reference images**</font> that minimizes squared residuals with the <font color='blue'>**disk-model-subtracted science image**</font>\n",
    "\n",
    "**wdb.hpfdi_presets()**: High-Pass Filtered RDI (HPFRDI); coefficients give the linear combination of <font color='red'>**high-pass-filtered reference images**</font> that minimizes squared residuals with the <font color='blue'>**high-pass-filtered science image**</font>\n",
    "\n",
    "All three presets methods are purely for convenience. Under the hood, all of these methods are passing RDI settings to the set_rdi_presets method, which populates the wdb.rdi_settings dictionary and sets the output extension for saving files. \n",
    "\n",
    "Ultimately, for any RDI process, we'll use the run_rdi method. \n",
    "\n",
    "In run_rdi, we do some JWST-specific book-keeping and formatting before calling the more generalized winnie.rdi.rdi_residuals function. rdi_residuals has a lot of options you might find useful. A section of the docstring is included below (sans anything that is already set by run_rdi).\n",
    "\n",
    "**Note: The winnie.rdi code was written for ground-based IFS/IFU data, so operates on 4D data sequences (N exposures $\\times$ N wavelengths $\\times$ ny $\\times$ nx). These are referred to as \"hcubes\" (hypercubes) in the winnie.rdi documentation. hcube is the science target sequence and hcube_ref is the reference target sequence. For our use, we simply add a length 1 axis to our 3D JWST data sequences; e.g.,** ```hcube = imcube[:, np.newaxis]```\n",
    "\n",
    "    hcube_css: ndarray\n",
    "        4D array; same shape as hcube. hcube_css should provide an estimate of the circumstellar signal \n",
    "        in hcube, rotated to the appropriate posangs and convolved with the appropriate PSF.\n",
    "\n",
    "    ref_mask: ndarray\n",
    "        2D boolean array of shape (len(optzones), nT_ref) that indicates which reference images should be considered\n",
    "        for which optimization regions. E.g., if ref_mask[i,j] is False, then for the ith optimization zone (optzones[i]),\n",
    "        the jth reference image (hcube_ref[j]) will NOT be used for construction of the PSF model. This can be useful if\n",
    "        some reference exposures have anomalous features that make them problematic for some regions while still being\n",
    "        suitable for others; e.g., an image with a bright background source near the edge of the FOV may still be useful\n",
    "        for nulling the PSF near the inner working angle.\n",
    "\n",
    "    objective: bool\n",
    "        If True, the output array will be (hcube - hcube_css) - hcube_psfmodel, where hcube_psfmodel is \n",
    "        constructed by comparing hcube_ref to (hcube - hcube_css). If False, the output array will simply\n",
    "        be hcube - hcube_psfmodel. If hcube_css is None, then setting this will have no effect. \n",
    "\n",
    "    zero_nans: bool\n",
    "        If True, any nans in the optimization zones will be replaced with zeros for the procedure.\n",
    "\n",
    "    return_psf_model: bool\n",
    "        If True, the PSF-model hcube matching hcube in shape is returned instead of the residuals hcube. Will not be\n",
    "        derotated (even if posangs is specified).\n",
    "\n",
    "    return_coeffs: bool\n",
    "        If True, returns only the array of PSF model coefficients.\n",
    "\n",
    "    coeffs_in: ndarray\n",
    "        If provided, these coefficients will be used to construct the PSF model instead of computing coefficients.\n",
    "\n",
    "    opt_smoothing_fn: callable or None\n",
    "        If not None, this argument indicates the function with which to smooth the sequences. This should\n",
    "        be a function that takes a hypercube along with some keyword arguments and returns a smoothed hypercube, \n",
    "        i.e.: hcube_filt = opt_smoothing_fn(hcube, **opt_smoothing_kwargs).\n",
    "        \n",
    "    opt_smoothing_kwargs: dict\n",
    "        If opt_smoothing_fn is not None, arguments to pass to opt_smoothing_fn when it is called.\n",
    "        \n",
    "Values for these keywords can be set in three ways:\n",
    "\n",
    "1) Using presets (rdi_presets, hpfrdi_presets, mcrdi_presets, or the generic set_presets methods)\n",
    "\n",
    "    - rdi_presets simply clears the current settings to get a \"standard\" RDI reduction\n",
    "    \n",
    "    - mcrdi_presets adds hcube_css to the current config\n",
    "    \n",
    "    - hpfrdi_presets adds opt_smoothing_fn and opt_smoothing_kwargs\n",
    "    \n",
    " \n",
    "2) Using the set_fixed_rdi_settings method\n",
    "    - these settings will remain when changing presets\n",
    "    \n",
    "\n",
    "3) Using the extra_rdi_settings keyword argument for the run_rdi method\n",
    "    - these settings will be used only for this execution of run_rdi\n",
    "    \n",
    "\n",
    "You can alter the rdi_settings dictionary manually as well. However, this will override the typical behavior of any fixed RDI settings. If fully custom settings are needed, the set_presets method is the preferred way to set them.\n",
    "\n",
    "**Note: When loading a new concatenation, all RDI settings are erased! This includes any custom optimization / subtraction zones.**\n",
    "\n",
    "**\"Why use the presets or set_fixed_rdi_settings methods instead of just passing the desired settings in with the extra_rdi_settings argument?\"**\n",
    "\n",
    "Mostly forward modeling. If your settings are saved to the object, you can run your RDI reduction with wdb.run_rdi() and then later apply forward modeling for the same settings simply by executing wdb.run_rdi(forward_model=True) after setting a model with the set_circumstellar_model method. \n",
    "\n",
    "**\"How is priority determined between the three?\"**\n",
    "\n",
    "Any settings assigned with the set_fixed_rdi_settings method will overwrite duplicate settings in the presets methods. If you duplicate a setting controlled by either of these in extra_rdi_settings, run_rdi will crash with a keyword argument repeated SyntaxError."
   ]
  },
  {
   "cell_type": "markdown",
   "id": "36e69495",
   "metadata": {},
   "source": [
    "### Some examples showing how you might use set_fixed_rdi_settings and extra_rdi_settings\n",
    "\n",
    "**fixed_rdi_settings**:\n",
    "\n",
    "Say we've noticed after an initial RDI reduction that one of our reference images in the current concatenation has a significant artifact that's negatively impacting our reductions. "
   ]
  },
  {
   "cell_type": "code",
   "execution_count": null,
   "id": "befab5c0",
   "metadata": {
    "ExecuteTime": {
     "end_time": "2024-05-09T15:23:47.884131Z",
     "start_time": "2024-05-09T15:23:46.840589Z"
    }
   },
   "outputs": [],
   "source": [
    "# Adding a fake artifact to one of the reference images and running RDI\n",
    "wdb.load_concat(0)\n",
    "\n",
    "fake_artifact = np.where(winnie.utils.dist_to_pt([123,248], wdb.nx, wdb.ny) < 2.5, 5.0, 0.0)\n",
    "bad_ind = 3\n",
    "wdb.imcube_ref[bad_ind] += fake_artifact\n",
    "\n",
    "wdb.rdi_presets()\n",
    "rdi_artifact = wdb.run_rdi()\n",
    "\n",
    "wdb.hpfrdi_presets()\n",
    "hpfrdi_artifact = wdb.run_rdi()\n",
    "\n",
    "quick_implot([rdi_artifact.im, hpfrdi_artifact.im], cmap='RdBu_r', clim_perc=99.9, extent=rdi_artifact.extent, lims=[-5,5])"
   ]
  },
  {
   "cell_type": "markdown",
   "id": "9572231d",
   "metadata": {},
   "source": [
    "Let's use \"ref_mask\" (see doctstring above) to explicitly exclude the offending image from our RDI procedure"
   ]
  },
  {
   "cell_type": "code",
   "execution_count": null,
   "id": "594f476d",
   "metadata": {
    "ExecuteTime": {
     "end_time": "2024-05-09T15:23:51.980157Z",
     "start_time": "2024-05-09T15:23:51.188762Z"
    }
   },
   "outputs": [],
   "source": [
    "# Build an initial \"ref_mask\", which is a boolean array of shape (Nzones, Nrefs)\n",
    "ref_mask = np.ones((wdb.optzones.shape[0], wdb.imcube_ref.shape[0]), dtype='bool')\n",
    "\n",
    "# then set the entry for our image containing the artifact to False\n",
    "ref_mask[:,bad_ind] = False\n",
    "\n",
    "# Add ref_mask as a fixed RDI setting\n",
    "wdb.set_fixed_rdi_settings(ref_mask=ref_mask)\n",
    "\n",
    "# Rerun both RDI procedures\n",
    "wdb.rdi_presets()\n",
    "rdi_noartifact = wdb.run_rdi()\n",
    "\n",
    "wdb.hpfrdi_presets()\n",
    "hpfrdi_noartifact = wdb.run_rdi()"
   ]
  },
  {
   "cell_type": "code",
   "execution_count": null,
   "id": "fd9b18da",
   "metadata": {
    "ExecuteTime": {
     "end_time": "2024-05-09T15:23:56.018992Z",
     "start_time": "2024-05-09T15:23:55.676766Z"
    }
   },
   "outputs": [],
   "source": [
    "fig,axes = quick_implot([[rdi_artifact.im, hpfrdi_artifact.im],\n",
    "              [rdi_noartifact.im, hpfrdi_noartifact.im]], cmap='RdBu_r', clim_perc=99.9, extent=rdi_artifact.extent, lims=[-5,5], show=False)\n",
    "\n",
    "labels = ['RDI (no ref_mask)', 'HPFRDI (no ref_mask)', 'RDI (ref_mask)', 'HPFRDI (ref_mask)']\n",
    "\n",
    "for i,ax in enumerate(axes):\n",
    "    ax.text(0.5, 0.95, labels[i], ha='center', va='top', transform=ax.transAxes, fontsize=20)"
   ]
  },
  {
   "cell_type": "markdown",
   "id": "70410e89",
   "metadata": {},
   "source": [
    "In this case, we could also have simply excluded the offending reference image from our database / directory. The more unique utility of ref_mask is the ability to exclude reference images for individual optimization zones. E.g., we could break our PSF subtraction into inner and outer optimization zones, and then exclude the image with the artifact for only the outer zone, potentially improving the PSF model for the inner zone without being forced to accept the artifact in our result. "
   ]
  },
  {
   "cell_type": "markdown",
   "id": "4f8dbfbc",
   "metadata": {},
   "source": [
    "**extra_rdi_settings**:\n",
    "\n",
    "Let's reset and take a closer look at the two rolls for a standard RDI reduction. "
   ]
  },
  {
   "cell_type": "code",
   "execution_count": null,
   "id": "a801a2bc",
   "metadata": {
    "ExecuteTime": {
     "end_time": "2024-05-09T15:24:00.275263Z",
     "start_time": "2024-05-09T15:23:59.663472Z"
    }
   },
   "outputs": [],
   "source": [
    "wdb.load_concat(0)\n",
    "\n",
    "rdi_reduc = wdb.run_rdi()\n",
    "\n",
    "quick_implot(rdi_reduc.rolls, clim_perc=98, cmap='RdBu_r')"
   ]
  },
  {
   "cell_type": "markdown",
   "id": "e8066ccd",
   "metadata": {},
   "source": [
    "At a glance, the first roll looks a lot noisier in the background-limited regime.\n",
    "\n",
    "We can look at the err_rolls entries as well to see this more clearly:"
   ]
  },
  {
   "cell_type": "code",
   "execution_count": null,
   "id": "af848520",
   "metadata": {
    "ExecuteTime": {
     "end_time": "2024-05-09T15:24:03.332745Z",
     "start_time": "2024-05-09T15:24:03.132319Z"
    }
   },
   "outputs": [],
   "source": [
    "quick_implot(rdi_reduc.err_rolls, clim='0, 99%')"
   ]
  },
  {
   "cell_type": "code",
   "execution_count": null,
   "id": "16376fc1",
   "metadata": {
    "ExecuteTime": {
     "end_time": "2024-05-09T15:24:12.504869Z",
     "start_time": "2024-05-09T15:24:12.483053Z"
    }
   },
   "outputs": [],
   "source": [
    "# Or, numerically, by computing the median pixel uncertainty for the region at least 100 pixels from the star in both rolls\n",
    "\n",
    "mask = winnie.utils.dist_to_pt(wdb.c_star, wdb.nx, wdb.ny) > 100\n",
    "\n",
    "np.nanmedian(rdi_reduc.err_rolls[..., mask], axis=-1).round(3)"
   ]
  },
  {
   "cell_type": "markdown",
   "id": "d2da8ae3",
   "metadata": {},
   "source": [
    "What might cause this? Well, we wouldn't generally expect either input science image to have significantly higher initial BG noise levels (same exposure times). \n",
    "\n",
    "We can confirm this by inspecting \"errcube_sci\", which comes directly from the ERR extension of the input FITS file"
   ]
  },
  {
   "cell_type": "code",
   "execution_count": null,
   "id": "6f0cf22f",
   "metadata": {
    "ExecuteTime": {
     "end_time": "2024-05-09T15:24:17.277604Z",
     "start_time": "2024-05-09T15:24:17.077078Z"
    }
   },
   "outputs": [],
   "source": [
    "quick_implot(wdb.errcube_sci, clim='0, 99%')"
   ]
  },
  {
   "cell_type": "code",
   "execution_count": null,
   "id": "b10bc31b",
   "metadata": {
    "ExecuteTime": {
     "end_time": "2024-05-09T15:24:28.286920Z",
     "start_time": "2024-05-09T15:24:28.270263Z"
    }
   },
   "outputs": [],
   "source": [
    "# And numerically:\n",
    "np.nanmedian(wdb.errcube_sci[..., mask], axis=-1).round(3)"
   ]
  },
  {
   "cell_type": "markdown",
   "id": "cd5c0747",
   "metadata": {},
   "source": [
    "Our PSF-subtracted uncertainty is simply\n",
    "\n",
    "$\n",
    "\\sigma_{sub} = \\sqrt{\\sigma_{data}^2 + \\sigma_{model}^2}\n",
    "$\n",
    "\n",
    "where $\\sigma_{data}$ is the uncertainty from the 'ERR' FITS extension and $\\sigma_{model}$ is the uncertainty for the stellar PSF model (which is propagated from the ERR extensions for the reference images).\n",
    "\n",
    "(Note: this neglects residual speckle noise — so these maps should only be considered meaningful where speckle noise is small.)\n",
    "\n",
    "Since $\\sigma_{data}$ is not the cause, this means that the difference in noise is contributed by the stellar PSF model somehow.\n",
    "\n",
    "Consider our PSF model uncertainty:\n",
    "\n",
    "$\n",
    "\\sigma_{model} = \\sqrt{(c_1\\sigma_1)^2 + (c_2\\sigma_2)^2 + ...} = \\sqrt{\\sum_i^N (c_i \\sigma_i)^2}\n",
    "$\n",
    "\n",
    "for coefficients $c_i$ and reference image uncertainties $\\sigma_i$.\n",
    "\n",
    "Since our reference images all have the same exposure time, they should have comparable uncertainties in the background limited regime (assuming similar backgrounds). Let's verify this:"
   ]
  },
  {
   "cell_type": "code",
   "execution_count": null,
   "id": "fbb8573e",
   "metadata": {
    "ExecuteTime": {
     "end_time": "2024-05-09T15:24:37.439458Z",
     "start_time": "2024-05-09T15:24:37.409069Z"
    }
   },
   "outputs": [],
   "source": [
    "# Check the median pixel uncertainty for the same region as before in all 6 reference images\n",
    "\n",
    "np.nanmedian(wdb.errcube_ref[..., mask], axis=-1).round(3)"
   ]
  },
  {
   "cell_type": "markdown",
   "id": "8c31d84b",
   "metadata": {},
   "source": [
    "For comparable reference image uncertainties ($\\sigma_i = \\sigma$), $\\sigma_{model}$ becomes\n",
    "\n",
    "$\n",
    "\\sigma_{model} \\sim \\sqrt{\\sum_i^N (c_i \\sigma)^2} = \\sigma \\sqrt{\\sum_i^N c_i^2}\n",
    "$\n",
    "\n",
    "\n",
    "Thus our model variance is proportional to the sum of the squared coefficients:\n",
    "\n",
    "$\n",
    "\\sigma_{model}^2 \\propto \\sum_i^N c_i^2 \n",
    "$\n",
    "\n",
    "From this, we could get a higher PSF-subtracted uncertainty for roll 1 if:\n",
    "\n",
    "a) the coefficients are generally larger for roll 1 \n",
    "\n",
    "b) one reference image dominates the model for roll 1, while roll 2 has more uniform coefficients\n",
    "\n",
    "\n",
    "We can get a handle on this by looking at the actual RDI coefficients. \n",
    "\n",
    "We'll do this by having run_rdi pass the return_coeffs keyword to winnie.rdi.rdi_residuals (while also setting the return_res_only keyword for run_rdi, which tells it to directly return the result of rdi_residuals to us)"
   ]
  },
  {
   "cell_type": "code",
   "execution_count": null,
   "id": "b52b1d59",
   "metadata": {
    "ExecuteTime": {
     "end_time": "2024-05-09T15:25:11.847531Z",
     "start_time": "2024-05-09T15:25:11.828849Z"
    }
   },
   "outputs": [],
   "source": [
    "coeffs = wdb.run_rdi(return_res_only=True, return_coeffs=True)\n",
    "coeffs.shape"
   ]
  },
  {
   "cell_type": "markdown",
   "id": "b9485850",
   "metadata": {},
   "source": [
    "The axes here are (wavelengths, zones, science images, reference images).\n",
    "\n",
    "Let's plot the squared values for the 6 coefficients for each of the two science rolls:"
   ]
  },
  {
   "cell_type": "code",
   "execution_count": null,
   "id": "075ff695",
   "metadata": {
    "ExecuteTime": {
     "end_time": "2024-05-09T15:25:15.082639Z",
     "start_time": "2024-05-09T15:25:14.843202Z"
    }
   },
   "outputs": [],
   "source": [
    "fig,ax = plt.subplots()\n",
    "\n",
    "ax.plot(coeffs[0,0,0]**2, c='crimson', marker='o', label='roll 1')\n",
    "ax.plot(coeffs[0,0,1]**2, c='royalblue', marker='o', label='roll 2')\n",
    "\n",
    "lgd = ax.legend(edgecolor='None', fontsize=16)\n",
    "\n",
    "ax.set(xlabel='Reference Index', ylabel='(RDI Coefficient)$^2$')\n",
    "\n",
    "plt.show()"
   ]
  },
  {
   "cell_type": "markdown",
   "id": "37ea6d6c",
   "metadata": {},
   "source": [
    "It looks like the cause is a little of both scenarios: roll 1's coefficients are generally larger (because of a larger coronagraph misalignment that is not repeated among the references) AND there's a large contribution from reference image 3.\n",
    "\n",
    "This highlights a funny scenario that can emerge with similar data. If the coronagraph alignment of a particular science image is very well matched by one reference image, your stellar PSF model will likely be dominated by a single reference image. The alignment match will yield strong suppression of the stellar diffraction pattern and thus good sensitivity in the speckle-limited regime. However, the dominance of one reference image will result in a noisier stellar PSF model, thus potentially compromising the sensitivity in the background-limited regime. In other words, sensitivity at small separations can come at the price of sensitivity at larger separations. \n",
    "\n",
    "This is also a less-obvious way that using techniques like HPFRDI and MCRDI to mitigate oversubtraction can improve reductions."
   ]
  },
  {
   "cell_type": "code",
   "execution_count": null,
   "id": "1cdfdd60",
   "metadata": {
    "ExecuteTime": {
     "end_time": "2024-05-09T15:25:35.274002Z",
     "start_time": "2024-05-09T15:25:34.719199Z"
    }
   },
   "outputs": [],
   "source": [
    "# Run a quick HPFRDI procedure and grab the HPFRDI coefficients\n",
    "wdb.load_concat(0)\n",
    "wdb.hpfrdi_presets()\n",
    "\n",
    "hpfrdi_reduc = wdb.run_rdi()\n",
    "\n",
    "coeffs_hpfrdi = wdb.run_rdi(return_res_only=True, return_coeffs=True)"
   ]
  },
  {
   "cell_type": "code",
   "execution_count": null,
   "id": "23037ebc",
   "metadata": {
    "ExecuteTime": {
     "end_time": "2024-05-09T15:25:36.988171Z",
     "start_time": "2024-05-09T15:25:36.782741Z"
    }
   },
   "outputs": [],
   "source": [
    "fig,ax = plt.subplots()\n",
    "\n",
    "ax.plot(coeffs[0,0,0]**2, c='crimson', marker='o', label='roll 1 (RDI)')\n",
    "ax.plot(coeffs_hpfrdi[0,0,0]**2, c='crimson', marker='D', ls='dashed', label='roll 1 (HPFRDI)')\n",
    "\n",
    "ax.plot(coeffs[0,0,1]**2, c='royalblue', marker='o', label='roll 2 (RDI)')\n",
    "ax.plot(coeffs_hpfrdi[0,0,1]**2, c='royalblue', marker='D', ls='dashed', label='roll 2 (HPFRDI)')\n",
    "\n",
    "lgd = ax.legend(edgecolor='None', fontsize=16)\n",
    "\n",
    "ax.set(xlabel='Reference Index', ylabel='(RDI Coefficient)$^2$')\n",
    "plt.show()"
   ]
  },
  {
   "cell_type": "code",
   "execution_count": null,
   "id": "bd3a4f3d",
   "metadata": {
    "ExecuteTime": {
     "end_time": "2024-05-09T15:25:42.356742Z",
     "start_time": "2024-05-09T15:25:42.340295Z"
    }
   },
   "outputs": [],
   "source": [
    "# RDI background noise level\n",
    "rdi_noise = np.nanmedian(rdi_reduc.err[mask])\n",
    "rdi_noise.round(3)"
   ]
  },
  {
   "cell_type": "code",
   "execution_count": null,
   "id": "f1e8f0f4",
   "metadata": {
    "ExecuteTime": {
     "end_time": "2024-05-09T15:25:42.531669Z",
     "start_time": "2024-05-09T15:25:42.504579Z"
    }
   },
   "outputs": [],
   "source": [
    "# HPFRDI background noise level\n",
    "hpfrdi_noise = np.nanmedian(hpfrdi_reduc.err[mask])\n",
    "hpfrdi_noise.round(3)"
   ]
  },
  {
   "cell_type": "code",
   "execution_count": null,
   "id": "a9429777",
   "metadata": {
    "ExecuteTime": {
     "end_time": "2024-05-09T15:25:43.293061Z",
     "start_time": "2024-05-09T15:25:43.280122Z"
    }
   },
   "outputs": [],
   "source": [
    "(hpfrdi_noise/rdi_noise).round(3)"
   ]
  },
  {
   "cell_type": "markdown",
   "id": "f9304101",
   "metadata": {},
   "source": [
    "Since RDI oversubtraction manifests as increased reference coefficients, this comes with additional noise in the eventual stellar PSF model."
   ]
  }
 ],
 "metadata": {
  "kernelspec": {
   "display_name": "Python 3 (ipykernel)",
   "language": "python",
   "name": "python3"
  },
  "language_info": {
   "codemirror_mode": {
    "name": "ipython",
    "version": 3
   },
   "file_extension": ".py",
   "mimetype": "text/x-python",
   "name": "python",
   "nbconvert_exporter": "python",
   "pygments_lexer": "ipython3",
   "version": "3.9.17"
  }
 },
 "nbformat": 4,
 "nbformat_minor": 5
}
