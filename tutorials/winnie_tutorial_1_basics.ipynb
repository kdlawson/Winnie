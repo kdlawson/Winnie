{
 "cells": [
  {
   "cell_type": "code",
   "execution_count": null,
   "id": "342b8fad",
   "metadata": {
    "ExecuteTime": {
     "end_time": "2024-05-09T14:34:33.547490Z",
     "start_time": "2024-05-09T14:34:28.651110Z"
    },
    "code_folding": [
     3,
     11
    ]
   },
   "outputs": [],
   "source": [
    "# Imports\n",
    "from IPython.display import display, HTML\n",
    "\n",
    "def setup_display(width=95, fontsize=16):\n",
    "    \"\"\"\n",
    "    Sets window width and markdown fontsize for Jupyter notebook. Width is % of window.\n",
    "    \"\"\"\n",
    "    display(HTML(\"<style>.container { width:\"+str(width)+\"% !important; }</style>\"))\n",
    "    display(HTML(\"<style>.rendered_html { font-size: \"+str(fontsize)+\"px; }</style>\"))\n",
    "    return None\n",
    "\n",
    "def source(fn):\n",
    "    import inspect\n",
    "    print(inspect.getsource(fn))\n",
    "    return None\n",
    "\n",
    "import sys\n",
    "# Adding the Winnie package's directory to your path\n",
    "winnie_path = '../'\n",
    "\n",
    "if winnie_path not in sys.path:\n",
    "    sys.path.append(winnie_path)\n",
    "\n",
    "##################\n",
    "import numpy as np\n",
    "import glob\n",
    "import winnie\n",
    "from winnie.plot import animate_quick_implot, quick_implot, mpl, plt\n",
    "from spaceKLIP import database\n",
    "import webbpsf\n",
    "import astropy.units as u\n",
    "\n",
    "setup_display()"
   ]
  },
  {
   "cell_type": "markdown",
   "id": "d2f42d75",
   "metadata": {},
   "source": [
    "### Input data:\n",
    "\n",
    "The code assumes your data are processed through the imagetools.align_frames step from SpaceKLIP. I'd also strongly recommend coadding your integrations for each exposure before proceeding. The code will effectively do this anyway, but is much less careful about updating header info. For a spaceklip imagetools object called ImageTools, this is just:\n",
    "\n",
    "> ImageTools.coadd_frames(nframes=None, types=['SCI', 'SCI_BG', 'REF', 'REF_BG'], subdir='coadded')\n",
    "\n",
    "\n",
    "#### Notes on the current state of the code\n",
    "\n",
    "- Many of the operations are written to optionally run on a GPU (by passing use_gpu=True to winnie.SpaceRDI). However, I'm still working through updating these functions in a few cases so the code will currently override this option with use_gpu=False.\n",
    "\n",
    "- The convolution procedure (see tutorial 2) is appropriate only for round mask / Lyot data (NIRCam or MIRI) currently. Expect the wrong answer if you run this on FQPM data.\n",
    "\n",
    "- winnie.SpaceRDI should propagate pixel-wise uncertainties from the ERR FITS extensions by default. However, a) these neglect speckle noise / speckle residuals, and b) the current SpaceKLIP ramp fitting with pseudo reference pixels significantly reduces noise but doesn't change the noise maps versus the standard pipeline — so these (generally) overestimate the noise. In other words, these are not statistically robust currently, but may still be useful for relative comparisons."
   ]
  },
  {
   "cell_type": "code",
   "execution_count": null,
   "id": "0c3cd7f3",
   "metadata": {
    "ExecuteTime": {
     "end_time": "2024-05-09T14:34:53.626245Z",
     "start_time": "2024-05-09T14:34:53.404467Z"
    }
   },
   "outputs": [],
   "source": [
    "# Prep the SpaceRDI object:\n",
    "distance = 9.714 # Distance to your target in parsecs\n",
    "\n",
    "base_dir = './aumic_rdi_example/'\n",
    "input_dir = f'{base_dir}coadded/'\n",
    "output_dir = f'{base_dir}WinnieRDI/'\n",
    "data_ext = 'calints'\n",
    "fitsfiles = np.sort(glob.glob(f'{input_dir}*{data_ext}.fits')) # Populate a file list\n",
    "\n",
    "# Initialize the spaceKLIP database\n",
    "Database = database.Database(output_dir)\n",
    "Database.verbose = False\n",
    "Database.read_jwst_s012_data(datapaths=fitsfiles,\n",
    "                             psflibpaths=None,\n",
    "                             bgpaths=None)\n",
    "\n",
    "# Create the SpaceRDI object we'll use to carry out RDI\n",
    "# There's quite a few options here. Check the docstring for more info!\n",
    "wdb = winnie.SpaceRDI(Database, data_ext, overwrite=True, verbose=True, pad_data='auto')"
   ]
  },
  {
   "cell_type": "code",
   "execution_count": null,
   "id": "9cc4ddd6",
   "metadata": {
    "ExecuteTime": {
     "end_time": "2024-05-09T14:35:19.550783Z",
     "start_time": "2024-05-09T14:35:19.363575Z"
    }
   },
   "outputs": [],
   "source": [
    "# Load the 0th concatenation (F356W for the example case). \n",
    "wdb.load_concat(0)\n",
    "\n",
    "# Full concatenation strings can be used instead (the keys for Database.obs)"
   ]
  },
  {
   "cell_type": "code",
   "execution_count": null,
   "id": "9229c48c",
   "metadata": {
    "ExecuteTime": {
     "end_time": "2024-05-09T14:35:39.331052Z",
     "start_time": "2024-05-09T14:35:38.879374Z"
    }
   },
   "outputs": [],
   "source": [
    "# Run RDI using the default settings\n",
    "\n",
    "rdi_reduc = wdb.run_rdi(save_products=True)"
   ]
  },
  {
   "cell_type": "markdown",
   "id": "363444dd",
   "metadata": {},
   "source": [
    "The run_rdi method returns a SpaceReduction object, which has the following properties:\n",
    "\n",
    "    rdi_reduc.im: the derotated and roll-averaged final PSF-subtracted image (2D array)\n",
    "\n",
    "    rdi_reduc.err: the propagated uncertainty maps based on the ERR fits extensions (2D array)\n",
    "\n",
    "    rdi_reduc.rolls: the derotated and PSF-subtracted individual rolls (3D array)\n",
    "\n",
    "    rdi_reduc.err_rolls: the propagated uncertainty maps for rdi_reduc.rolls (3D array)\n",
    "\n",
    "    rdi_reduc.extent: the stellocentric image extent in arcsec for use with matplotlib"
   ]
  },
  {
   "cell_type": "code",
   "execution_count": null,
   "id": "a54c033e",
   "metadata": {
    "ExecuteTime": {
     "end_time": "2024-05-09T14:35:41.575223Z",
     "start_time": "2024-05-09T14:35:41.542572Z"
    }
   },
   "outputs": [],
   "source": [
    "# You can convert the output to a more familiar HDUList if you prefer:\n",
    "hdul = rdi_reduc.to_hdulist()\n",
    "hdul.info()"
   ]
  },
  {
   "cell_type": "markdown",
   "id": "c279e3db",
   "metadata": {},
   "source": [
    "You can load a previous SpaceReduction object that you've saved in three ways:\n",
    "\n",
    "By providing a) a SpaceRDI instance with a concat already loaded, and b) the output_ext used for the file:\n",
    "\n",
    "`rdi_reduc = winnie.SpaceReduction(spacerdi=wdb, output_ext='rdi_psfsub')`\n",
    "\n",
    "By providing a) a SpaceRDI instance with or without a concat already loaded, b) a concat to use, and c) the output_ext used for the file:\n",
    "\n",
    "`rdi_reduc = winnie.SpaceReduction(spacerdi=wdb, concat=0, output_ext='rdi_psfsub')`\n",
    "\n",
    "By providing the full path to the FITS file:\n",
    "\n",
    "`rdi_reduc = winnie.SpaceReduction('./aumic_rdi_example/WinnieRDI/JWST_NIRCAM_NRCALONG_F356W_MASKA335R_SUB320A335R_rdi_psfsub.fits')`"
   ]
  },
  {
   "cell_type": "code",
   "execution_count": null,
   "id": "bf33da03",
   "metadata": {
    "ExecuteTime": {
     "end_time": "2024-05-09T14:35:45.231470Z",
     "start_time": "2024-05-09T14:35:44.466144Z"
    }
   },
   "outputs": [],
   "source": [
    "# Let's make a plot of the results, showing the combined image and each individual roll.\n",
    "\n",
    "fig,axes,cbar = quick_implot([rdi_reduc.im, *rdi_reduc.rolls], show=False, clim_perc=99.5, cmap='RdBu_r', extent=rdi_reduc.extent, show_ticks=True, lims=[-6.5,6.5],\n",
    "                              cbar=True, cbar_kwargs=dict(pad=0.02), panelsize=(5.5,4.5), cbar_label=r'MJy$\\,/\\,$sr')\n",
    "\n",
    "for i,label in enumerate(['Combined', 'Roll 1', 'Roll 2']):\n",
    "    axes[i].set_title(label)\n",
    "    \n",
    "plt.show()"
   ]
  },
  {
   "cell_type": "markdown",
   "id": "37c0d099",
   "metadata": {},
   "source": [
    "Let's try running a different variant of RDI: RDI with high-pass filtered coefficients (HPFRDI). \n",
    "\n",
    "For any of the presets methods (rdi_presets, hpfrdi_presets, and mcrdi_presets), the output_ext argument can be used to change the suffix for the file when saved. By default, standard RDI is 'rdi_psfsub', HPFRDI is 'hpfrdi_psfsub', and MCRDI is 'mcrdi_psfsub'. Of course, you can also change this simply by assigning a new output_ext property.\n",
    "\n",
    "Note: tutorial 3 covers what each of these presets is actually doing \"under the hood\". "
   ]
  },
  {
   "cell_type": "code",
   "execution_count": null,
   "id": "1f5efdba",
   "metadata": {
    "ExecuteTime": {
     "end_time": "2024-05-09T14:37:43.337521Z",
     "start_time": "2024-05-09T14:37:42.789339Z"
    }
   },
   "outputs": [],
   "source": [
    "# Set the HPFRDI presets and then rerun run_rdi to get our result\n",
    "wdb.hpfrdi_presets()\n",
    "\n",
    "hpfrdi_reduc = wdb.run_rdi(save_products=True)"
   ]
  },
  {
   "cell_type": "code",
   "execution_count": null,
   "id": "9a55ba1d",
   "metadata": {
    "ExecuteTime": {
     "end_time": "2024-05-09T14:37:45.852023Z",
     "start_time": "2024-05-09T14:37:45.387001Z"
    }
   },
   "outputs": [],
   "source": [
    "# Plot the comparison:\n",
    "\n",
    "fig,axes,cbar = quick_implot([rdi_reduc.im, hpfrdi_reduc.im], show=False, clim_perc=99.9, cmap='RdBu_r', extent=rdi_reduc.extent, show_ticks=True, lims=[-6.5,6.5],\n",
    "                              cbar=True, cbar_kwargs=dict(pad=0.02), panelsize=(5.5,4.5), cbar_label=r'MJy$\\,/\\,$sr')\n",
    "\n",
    "for i,label in enumerate(['RDI', 'HPFRDI']):\n",
    "    axes[i].set_title(label)\n",
    "    \n",
    "plt.show()"
   ]
  },
  {
   "cell_type": "markdown",
   "id": "38c62967",
   "metadata": {},
   "source": [
    "Running the same procedures on the 2nd concatenation (F444W)"
   ]
  },
  {
   "cell_type": "code",
   "execution_count": null,
   "id": "848f4988",
   "metadata": {
    "ExecuteTime": {
     "end_time": "2024-05-09T14:38:30.138112Z",
     "start_time": "2024-05-09T14:38:29.204470Z"
    }
   },
   "outputs": [],
   "source": [
    "wdb.load_concat(1)\n",
    "\n",
    "wdb.rdi_presets() # This is superfluous here, but included for reference — this just resets your RDI settings to the defaults\n",
    "rdi_reduc = wdb.run_rdi(save_products=True)\n",
    "\n",
    "wdb.hpfrdi_presets()\n",
    "hpfrdi_reduc = wdb.run_rdi(save_products=True)"
   ]
  },
  {
   "cell_type": "code",
   "execution_count": null,
   "id": "193c36a2",
   "metadata": {
    "ExecuteTime": {
     "end_time": "2024-05-09T14:38:33.037696Z",
     "start_time": "2024-05-09T14:38:32.575298Z"
    }
   },
   "outputs": [],
   "source": [
    "# Plot the comparison:\n",
    "fig,axes,cbar = quick_implot([rdi_reduc.im, hpfrdi_reduc.im], show=False, clim_perc=99.9, cmap='RdBu_r', extent=rdi_reduc.extent, show_ticks=True, lims=[-6.5,6.5],\n",
    "                              cbar=True, cbar_kwargs=dict(pad=0.02), panelsize=(5.5,4.5), cbar_label=r'MJy$\\,/\\,$sr')\n",
    "\n",
    "for i,label in enumerate(['RDI', 'HPFRDI']):\n",
    "    axes[i].set_title(label)\n",
    "    \n",
    "plt.show()"
   ]
  }
 ],
 "metadata": {
  "kernelspec": {
   "display_name": "Python 3 (ipykernel)",
   "language": "python",
   "name": "python3"
  },
  "language_info": {
   "codemirror_mode": {
    "name": "ipython",
    "version": 3
   },
   "file_extension": ".py",
   "mimetype": "text/x-python",
   "name": "python",
   "nbconvert_exporter": "python",
   "pygments_lexer": "ipython3",
   "version": "3.9.17"
  }
 },
 "nbformat": 4,
 "nbformat_minor": 5
}
